{
 "cells": [
  {
   "cell_type": "markdown",
   "id": "bccb3f83",
   "metadata": {},
   "source": [
    "# K - MEANS CLUSTERING"
   ]
  },
  {
   "cell_type": "markdown",
   "id": "dcb5436c",
   "metadata": {},
   "source": [
    "# IMPORTING LIBRARIES"
   ]
  },
  {
   "cell_type": "code",
   "execution_count": 1,
   "id": "c91ea3c4",
   "metadata": {},
   "outputs": [],
   "source": [
    "import cv2\n",
    "import numpy as np"
   ]
  },
  {
   "cell_type": "code",
   "execution_count": 2,
   "id": "f4847177",
   "metadata": {},
   "outputs": [],
   "source": [
    "img=cv2.imread(\"C:/Users/SN131/Desktop/football.jpg\")\n"
   ]
  },
  {
   "cell_type": "markdown",
   "id": "bf646f8d",
   "metadata": {},
   "source": [
    "# RGB CONVERSION"
   ]
  },
  {
   "cell_type": "code",
   "execution_count": 4,
   "id": "1c258471",
   "metadata": {},
   "outputs": [],
   "source": [
    "imgrgb = cv2.cvtColor(img,cv2.COLOR_BGR2RGB)"
   ]
  },
  {
   "cell_type": "markdown",
   "id": "6696effa",
   "metadata": {},
   "source": [
    "# RESHAPE"
   ]
  },
  {
   "cell_type": "code",
   "execution_count": 5,
   "id": "dbb8c3c2",
   "metadata": {},
   "outputs": [
    {
     "data": {
      "text/plain": [
       "array([[ 2,  5, 14],\n",
       "       [ 2,  5, 14],\n",
       "       [ 2,  5, 14],\n",
       "       ...,\n",
       "       [ 0,  4, 13],\n",
       "       [ 0,  4, 13],\n",
       "       [ 1,  5, 14]], dtype=uint8)"
      ]
     },
     "execution_count": 5,
     "metadata": {},
     "output_type": "execute_result"
    }
   ],
   "source": [
    "vec = imgrgb.reshape((-1,3))\n",
    "vec"
   ]
  },
  {
   "cell_type": "markdown",
   "id": "ec84d2d6",
   "metadata": {},
   "source": [
    "# FLOAT CONVERSION"
   ]
  },
  {
   "cell_type": "code",
   "execution_count": 6,
   "id": "7388d700",
   "metadata": {},
   "outputs": [
    {
     "data": {
      "text/plain": [
       "array([[ 2.,  5., 14.],\n",
       "       [ 2.,  5., 14.],\n",
       "       [ 2.,  5., 14.],\n",
       "       ...,\n",
       "       [ 0.,  4., 13.],\n",
       "       [ 0.,  4., 13.],\n",
       "       [ 1.,  5., 14.]], dtype=float32)"
      ]
     },
     "execution_count": 6,
     "metadata": {},
     "output_type": "execute_result"
    }
   ],
   "source": [
    "vec = np.float32(vec)\n",
    "vec"
   ]
  },
  {
   "cell_type": "markdown",
   "id": "a7127e6a",
   "metadata": {},
   "source": [
    "# ITERATION TERMINATION CRITERIA"
   ]
  },
  {
   "cell_type": "code",
   "execution_count": 9,
   "id": "9b8bf337",
   "metadata": {},
   "outputs": [],
   "source": [
    "criteria = (cv2.TERM_CRITERIA_EPS + cv2.TERM_CRITERIA_MAX_ITER,100,1)"
   ]
  },
  {
   "cell_type": "markdown",
   "id": "417f606b",
   "metadata": {},
   "source": [
    "# CLUSTER CONDITION"
   ]
  },
  {
   "cell_type": "code",
   "execution_count": 10,
   "id": "1a48b6ea",
   "metadata": {},
   "outputs": [],
   "source": [
    "k = 3\n",
    "attempts = 100"
   ]
  },
  {
   "cell_type": "markdown",
   "id": "502f8edc",
   "metadata": {},
   "source": [
    "# K - MEANS CLUSTERING"
   ]
  },
  {
   "cell_type": "code",
   "execution_count": 11,
   "id": "3efd4b7d",
   "metadata": {},
   "outputs": [
    {
     "data": {
      "text/plain": [
       "array([[217.6746  , 209.18068 , 181.16965 ],\n",
       "       [ 12.642567,  31.81795 ,  51.388622],\n",
       "       [128.47084 , 104.74736 , 110.16346 ]], dtype=float32)"
      ]
     },
     "execution_count": 11,
     "metadata": {},
     "output_type": "execute_result"
    }
   ],
   "source": [
    "compactness,label,center = cv2.kmeans(vec,k,None,criteria,attempts,cv2.KMEANS_PP_CENTERS)\n",
    "center"
   ]
  },
  {
   "cell_type": "code",
   "execution_count": 13,
   "id": "a4d30d7b",
   "metadata": {},
   "outputs": [
    {
     "data": {
      "text/plain": [
       "array([[217, 209, 181],\n",
       "       [ 12,  31,  51],\n",
       "       [128, 104, 110]], dtype=uint8)"
      ]
     },
     "execution_count": 13,
     "metadata": {},
     "output_type": "execute_result"
    }
   ],
   "source": [
    "center = np.uint8(center)\n",
    "center"
   ]
  },
  {
   "cell_type": "markdown",
   "id": "ac1d578d",
   "metadata": {},
   "source": [
    "## FLATTENING AND RESHAPE"
   ]
  },
  {
   "cell_type": "code",
   "execution_count": 14,
   "id": "e4faeece",
   "metadata": {},
   "outputs": [
    {
     "data": {
      "text/plain": [
       "array([[[12, 31, 51],\n",
       "        [12, 31, 51],\n",
       "        [12, 31, 51],\n",
       "        ...,\n",
       "        [12, 31, 51],\n",
       "        [12, 31, 51],\n",
       "        [12, 31, 51]],\n",
       "\n",
       "       [[12, 31, 51],\n",
       "        [12, 31, 51],\n",
       "        [12, 31, 51],\n",
       "        ...,\n",
       "        [12, 31, 51],\n",
       "        [12, 31, 51],\n",
       "        [12, 31, 51]],\n",
       "\n",
       "       [[12, 31, 51],\n",
       "        [12, 31, 51],\n",
       "        [12, 31, 51],\n",
       "        ...,\n",
       "        [12, 31, 51],\n",
       "        [12, 31, 51],\n",
       "        [12, 31, 51]],\n",
       "\n",
       "       ...,\n",
       "\n",
       "       [[12, 31, 51],\n",
       "        [12, 31, 51],\n",
       "        [12, 31, 51],\n",
       "        ...,\n",
       "        [12, 31, 51],\n",
       "        [12, 31, 51],\n",
       "        [12, 31, 51]],\n",
       "\n",
       "       [[12, 31, 51],\n",
       "        [12, 31, 51],\n",
       "        [12, 31, 51],\n",
       "        ...,\n",
       "        [12, 31, 51],\n",
       "        [12, 31, 51],\n",
       "        [12, 31, 51]],\n",
       "\n",
       "       [[12, 31, 51],\n",
       "        [12, 31, 51],\n",
       "        [12, 31, 51],\n",
       "        ...,\n",
       "        [12, 31, 51],\n",
       "        [12, 31, 51],\n",
       "        [12, 31, 51]]], dtype=uint8)"
      ]
     },
     "execution_count": 14,
     "metadata": {},
     "output_type": "execute_result"
    }
   ],
   "source": [
    "res = center[label.flatten()]\n",
    "res_img = res.reshape((imgrgb.shape))\n",
    "res_img"
   ]
  },
  {
   "cell_type": "markdown",
   "id": "7ea0a62a",
   "metadata": {},
   "source": [
    "# IMAGE PROCESSING"
   ]
  },
  {
   "cell_type": "code",
   "execution_count": 16,
   "id": "dcc01741",
   "metadata": {},
   "outputs": [],
   "source": [
    "cv2.imshow(\"img\",img)\n",
    "cv2.imshow(\"segmented\",res_img)\n",
    "cv2.waitKey(0)\n",
    "cv2.destroyAllWindows()"
   ]
  },
  {
   "cell_type": "code",
   "execution_count": 18,
   "id": "a832cdcc",
   "metadata": {},
   "outputs": [],
   "source": [
    "img=cv2.imread(\"C:/Users/SN131/Desktop/football.jpg\")\n",
    "segmented_image = cv2.pyrMeanShiftFiltering(img,40,40)\n",
    "cv2.imshow(\"img\",img)\n",
    "cv2.imshow(\"segmented_image\",segmented_image)\n",
    "cv2.waitKey(0)\n",
    "cv2.destroyAllWindows()"
   ]
  },
  {
   "cell_type": "code",
   "execution_count": null,
   "id": "d0667c1f",
   "metadata": {},
   "outputs": [],
   "source": []
  }
 ],
 "metadata": {
  "kernelspec": {
   "display_name": "Python 3 (ipykernel)",
   "language": "python",
   "name": "python3"
  },
  "language_info": {
   "codemirror_mode": {
    "name": "ipython",
    "version": 3
   },
   "file_extension": ".py",
   "mimetype": "text/x-python",
   "name": "python",
   "nbconvert_exporter": "python",
   "pygments_lexer": "ipython3",
   "version": "3.9.12"
  }
 },
 "nbformat": 4,
 "nbformat_minor": 5
}
