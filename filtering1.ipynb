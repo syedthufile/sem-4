{
 "cells": [
  {
   "cell_type": "code",
   "execution_count": 1,
   "id": "de9cc465",
   "metadata": {},
   "outputs": [],
   "source": [
    "import cv2 as cv\n",
    "import matplotlib.pyplot as plt\n",
    "import numpy as np"
   ]
  },
  {
   "cell_type": "markdown",
   "id": "13af9c34",
   "metadata": {},
   "source": [
    "# FILTERING"
   ]
  },
  {
   "cell_type": "code",
   "execution_count": 2,
   "id": "af9fa8ef",
   "metadata": {},
   "outputs": [],
   "source": [
    "img = cv.imread(\"C:/Users/SN131/Desktop/football.jpg\")\n",
    "kernal = np.ones((3,3),np.float32)/9\n",
    "filter = cv.filter2D(img,-1,kernal)\n",
    "cv.imshow('image',img)\n",
    "cv.imshow('filter2d',filter)\n",
    "cv.waitKey(0)\n",
    "cv.destroyAllWindows()"
   ]
  },
  {
   "cell_type": "markdown",
   "id": "f83f77e1",
   "metadata": {},
   "source": [
    "# BLURING"
   ]
  },
  {
   "cell_type": "code",
   "execution_count": 3,
   "id": "a402ddad",
   "metadata": {},
   "outputs": [],
   "source": [
    "img = cv.imread(\"C:/Users/SN131/Desktop/football.jpg\")\n",
    "blur = cv.blur(img,(5,5))\n",
    "cv.imshow('image',img)\n",
    "cv.imshow('blur',blur)\n",
    "cv.waitKey(0)\n",
    "cv.destroyAllWindows()"
   ]
  },
  {
   "cell_type": "markdown",
   "id": "9e8f40b1",
   "metadata": {},
   "source": [
    "# Gaussian blur"
   ]
  },
  {
   "cell_type": "code",
   "execution_count": 4,
   "id": "a0d0ebe2",
   "metadata": {},
   "outputs": [
    {
     "name": "stdout",
     "output_type": "stream",
     "text": [
      "(1402, 1500, 3)\n"
     ]
    }
   ],
   "source": [
    "img = cv.imread(\"C:/Users/SN131/Desktop/Image-Classification-Using-CNN-master/Image-Classification-Using-CNN-master/IMAGES/image22.jfif\")\n",
    "print(img.shape)\n",
    "Gblur = cv.GaussianBlur(img,(99,99),0)\n",
    "cv.imshow('image',img)\n",
    "cv.imshow('GaussianBlur',Gblur)\n",
    "cv.waitKey(0)\n",
    "cv.destroyAllWindows()"
   ]
  },
  {
   "cell_type": "markdown",
   "id": "c98acb7f",
   "metadata": {},
   "source": [
    "# bilateral filter"
   ]
  },
  {
   "cell_type": "code",
   "execution_count": 5,
   "id": "bea13d45",
   "metadata": {},
   "outputs": [
    {
     "name": "stdout",
     "output_type": "stream",
     "text": [
      "(1402, 1500, 3)\n"
     ]
    }
   ],
   "source": [
    "img = cv.imread(\"C:/Users/SN131/Desktop/Image-Classification-Using-CNN-master/Image-Classification-Using-CNN-master/IMAGES/image22.jfif\")\n",
    "print(img.shape)\n",
    "BFilter = cv.bilateralFilter(img,6,60,9)\n",
    "cv.imshow('image',img)\n",
    "cv.imshow('Bilateralfilter',BFilter)\n",
    "cv.waitKey(0)\n",
    "cv.destroyAllWindows()"
   ]
  },
  {
   "cell_type": "markdown",
   "id": "fffc1880",
   "metadata": {},
   "source": [
    "# median filter\n"
   ]
  },
  {
   "cell_type": "code",
   "execution_count": 6,
   "id": "7dc4806d",
   "metadata": {},
   "outputs": [],
   "source": [
    "img = cv.imread(\"C:/Users/SN131/Desktop/Image-Classification-Using-CNN-master/Image-Classification-Using-CNN-master/IMAGES/image22.jfif\")\n",
    "medianfilter = cv.medianBlur(img,5)\n",
    "cv.imshow('image',img)\n",
    "cv.imshow('medianBlur',medianfilter)\n",
    "cv.waitKey(0)\n",
    "cv.destroyAllWindows()"
   ]
  },
  {
   "cell_type": "markdown",
   "id": "62254d08",
   "metadata": {},
   "source": [
    "# LAPLACIAN"
   ]
  },
  {
   "cell_type": "code",
   "execution_count": 7,
   "id": "b1b44fa7",
   "metadata": {},
   "outputs": [],
   "source": [
    "img = cv.imread(\"C:/Users/SN131/Desktop/football.jpg\")\n",
    "lap =cv.Laplacian(img,cv.CV_64F,ksize=3)\n",
    "cv.imshow(\"img\",img)\n",
    "cv.imshow(\"laplacian\",lap)\n",
    "cv.imshow(\"img\",img)\n",
    "cv.waitKey(0)\n",
    "cv.destroyAllWindows()"
   ]
  },
  {
   "cell_type": "markdown",
   "id": "d01c8d66",
   "metadata": {},
   "source": [
    "# sobel x"
   ]
  },
  {
   "cell_type": "code",
   "execution_count": 8,
   "id": "65920ace",
   "metadata": {},
   "outputs": [],
   "source": [
    "img = cv.imread(\"C:/Users/SN131/Desktop/football.jpg\")\n",
    "sobelx=cv.Sobel(img,cv.CV_64F,1,0,ksize=3)\n",
    "sobelx=np.uint8(np.absolute(sobelx))\n",
    "cv.imshow(\"img\",img)\n",
    "cv.imshow('sobelx',sobelx)\n",
    "cv.waitKey(0)\n",
    "cv.destroyAllWindows()"
   ]
  },
  {
   "cell_type": "markdown",
   "id": "d851967f",
   "metadata": {},
   "source": [
    "# SOBEL Y"
   ]
  },
  {
   "cell_type": "code",
   "execution_count": 11,
   "id": "c8992d0c",
   "metadata": {},
   "outputs": [],
   "source": [
    "img = cv.imread(\"C:/Users/SN131/Desktop/football.jpg\",0)\n",
    "sobely=cv.Sobel(img,cv.CV_64F,0,1,ksize=3)\n",
    "sobelx=np.uint8(np.absolute(sobely))\n",
    "cv.imshow(\"img\",img)\n",
    "cv.imshow('sobely',sobely)\n",
    "cv.waitKey(0)\n",
    "cv.destroyAllWindows()"
   ]
  },
  {
   "cell_type": "code",
   "execution_count": null,
   "id": "54be4087",
   "metadata": {},
   "outputs": [],
   "source": []
  }
 ],
 "metadata": {
  "kernelspec": {
   "display_name": "Python 3 (ipykernel)",
   "language": "python",
   "name": "python3"
  },
  "language_info": {
   "codemirror_mode": {
    "name": "ipython",
    "version": 3
   },
   "file_extension": ".py",
   "mimetype": "text/x-python",
   "name": "python",
   "nbconvert_exporter": "python",
   "pygments_lexer": "ipython3",
   "version": "3.9.12"
  }
 },
 "nbformat": 4,
 "nbformat_minor": 5
}
