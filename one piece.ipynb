{
 "cells": [
  {
   "cell_type": "code",
   "execution_count": 1,
   "id": "52454117",
   "metadata": {},
   "outputs": [],
   "source": [
    "import cv2\n",
    "import numpy"
   ]
  },
  {
   "cell_type": "code",
   "execution_count": 2,
   "id": "a009e69e",
   "metadata": {},
   "outputs": [],
   "source": [
    "im1=cv2.imread(\"C:/Users/SN131/Desktop/football.jpg\")\n",
    "im2=cv2.imread(\"C:/Users/SN131/Desktop/green.png\")"
   ]
  },
  {
   "cell_type": "code",
   "execution_count": 19,
   "id": "bd30df1d",
   "metadata": {},
   "outputs": [],
   "source": [
    "cv2.imshow(\"img1\",im1)\n",
    "cv2.imshow(\"img2\",im2)\n",
    "cv2.waitKey(0)\n",
    "cv2.destroyAllWindows()"
   ]
  },
  {
   "cell_type": "code",
   "execution_count": 4,
   "id": "8da88de3",
   "metadata": {},
   "outputs": [],
   "source": [
    "im_blend=cv2.addWeighted(im1,1,im2,0.30,0)"
   ]
  },
  {
   "cell_type": "code",
   "execution_count": 5,
   "id": "88ecc64f",
   "metadata": {},
   "outputs": [
    {
     "data": {
      "text/plain": [
       "<function destroyAllWindows>"
      ]
     },
     "execution_count": 5,
     "metadata": {},
     "output_type": "execute_result"
    }
   ],
   "source": [
    "cv2.imshow(\"im1\",im1)\n",
    "cv2.waitKey(0)\n",
    "cv2.imshow(\"im2\",im2)\n",
    "cv2.waitKey(0)\n",
    "cv2.imshow(\"Blended\",im_blend)\n",
    "cv2.waitKey(0)\n",
    "cv2.destroyAllWindows"
   ]
  },
  {
   "cell_type": "code",
   "execution_count": 6,
   "id": "3a9394c0",
   "metadata": {},
   "outputs": [],
   "source": [
    "imsub=cv2.subtract(im1,im2)"
   ]
  },
  {
   "cell_type": "code",
   "execution_count": 7,
   "id": "04488442",
   "metadata": {},
   "outputs": [],
   "source": [
    "cv2.imshow(\"sub\",imsub)\n",
    "cv2.waitKey(0)\n",
    "cv2.destroyAllWindows()"
   ]
  },
  {
   "cell_type": "markdown",
   "id": "66b90ac6",
   "metadata": {},
   "source": [
    "# AND OR NOT XOR"
   ]
  },
  {
   "cell_type": "code",
   "execution_count": 8,
   "id": "665145c2",
   "metadata": {},
   "outputs": [],
   "source": [
    "And=cv2.bitwise_and(im1,im2)\n",
    "OR=cv2.bitwise_or(im1,im2)\n",
    "NOT=cv2.bitwise_not(im1,im2)\n",
    "XOR=cv2.bitwise_xor(im1,im2)"
   ]
  },
  {
   "cell_type": "code",
   "execution_count": 9,
   "id": "732ff97c",
   "metadata": {},
   "outputs": [],
   "source": [
    "cv2.imshow(\"AND\",And)\n",
    "cv2.waitKey(0)\n",
    "cv2.destroyAllWindows()"
   ]
  },
  {
   "cell_type": "code",
   "execution_count": 10,
   "id": "9a7489d9",
   "metadata": {},
   "outputs": [],
   "source": [
    "cv2.imshow(\"OR\",OR)\n",
    "cv2.waitKey(0)\n",
    "cv2.destroyAllWindows()"
   ]
  },
  {
   "cell_type": "code",
   "execution_count": 11,
   "id": "05d9d874",
   "metadata": {},
   "outputs": [],
   "source": [
    "cv2.imshow(\"NOT\",NOT)\n",
    "cv2.waitKey(0)\n",
    "cv2.destroyAllWindows()"
   ]
  },
  {
   "cell_type": "code",
   "execution_count": 12,
   "id": "4d1751ef",
   "metadata": {},
   "outputs": [],
   "source": [
    "cv2.imshow(\"XOR\",XOR)\n",
    "cv2.waitKey(0)\n",
    "cv2.destroyAllWindows()"
   ]
  },
  {
   "cell_type": "code",
   "execution_count": 13,
   "id": "abdfc2f3",
   "metadata": {},
   "outputs": [],
   "source": [
    "nand=cv2.bitwise_not(And)\n",
    "cv2.imshow(\"nand\",nand)\n",
    "cv2.waitKey(0)\n",
    "cv2.destroyAllWindows()"
   ]
  },
  {
   "cell_type": "markdown",
   "id": "3f09a7be",
   "metadata": {},
   "source": [
    "# ROI_region of intrest"
   ]
  },
  {
   "cell_type": "code",
   "execution_count": 14,
   "id": "8545ad5c",
   "metadata": {},
   "outputs": [],
   "source": [
    "im3=cv2.imread(\"C:/Users/SN131/Downloads/goku1.jpg\")"
   ]
  },
  {
   "cell_type": "code",
   "execution_count": 17,
   "id": "b1eca6f8",
   "metadata": {},
   "outputs": [],
   "source": [
    "roi=im3[0:10000000]"
   ]
  },
  {
   "cell_type": "code",
   "execution_count": 18,
   "id": "f0d30584",
   "metadata": {},
   "outputs": [],
   "source": [
    "cv2.imshow(\"gh\",roi)\n",
    "cv2.waitKey(0)\n",
    "cv2.destroyAllWindows()"
   ]
  },
  {
   "cell_type": "code",
   "execution_count": null,
   "id": "a111f3a4",
   "metadata": {},
   "outputs": [],
   "source": []
  }
 ],
 "metadata": {
  "kernelspec": {
   "display_name": "Python 3 (ipykernel)",
   "language": "python",
   "name": "python3"
  },
  "language_info": {
   "codemirror_mode": {
    "name": "ipython",
    "version": 3
   },
   "file_extension": ".py",
   "mimetype": "text/x-python",
   "name": "python",
   "nbconvert_exporter": "python",
   "pygments_lexer": "ipython3",
   "version": "3.9.12"
  }
 },
 "nbformat": 4,
 "nbformat_minor": 5
}
